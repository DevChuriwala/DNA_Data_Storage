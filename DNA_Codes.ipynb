{
 "cells": [
  {
   "cell_type": "code",
   "execution_count": 3,
   "metadata": {},
   "outputs": [],
   "source": [
    "#import statements\n",
    "import lzma\n",
    "import gzip\n",
    "import bz2\n",
    "import binascii\n",
    "\n",
    "\"\"\"\n",
    "Explanation:\n",
    "1.Choose a compression algorithm\n",
    "2.Choose data_base64(data) to convery output from \n",
    "  compression algorithm into useable format\n",
    "3.Convert this data (\"compression_base\", gzip_base....)\n",
    "  to binary and then use various encodings\n",
    "4.Create DNA strings\n",
    "5.Reconvert to binary data\n",
    "6.Use data_reconvert(reconvert) to format for decompression\n",
    "7.Call appropriate Decompression algorithm for use\n",
    "\"\"\""
   ]
  },
  {
   "cell_type": "code",
   "execution_count": 4,
   "metadata": {},
   "outputs": [],
   "source": [
    "def bzip_compression(data):\n",
    "    data_out = bz2.compress(data)\n",
    "    print(len(data) / len(data_out))\n",
    "    with bz2.open(\"myfile.bz2\", \"wb\") as f:\n",
    "    # Write compressed data to file\n",
    "        unused = f.write(data)\n",
    "    \n",
    "    with bz2.open(\"myfile.bz2\", \"rb\") as f:\n",
    "    # Decompress data from file\n",
    "        content = f.read()\n",
    "    return data_out\n"
   ]
  },
  {
   "cell_type": "code",
   "execution_count": 5,
   "metadata": {},
   "outputs": [],
   "source": [
    "def gzip_compression(data):\n",
    "    data_out = gzip.compress(data)\n",
    "    print(len(data) / len(data_out))\n",
    "    with gzip.open('/home/neel/Downloads/file.txt.gz', 'wb') as f:\n",
    "        f.write(data)\n",
    "        \n",
    "    with gzip.open('/home/neel/Downloads/file.txt.gz', 'rb') as f:\n",
    "        file_content = f.read()\n",
    "    return data_out"
   ]
  },
  {
   "cell_type": "code",
   "execution_count": 6,
   "metadata": {},
   "outputs": [],
   "source": [
    "def lzma_compression(data):\n",
    "    data_out = lzma.compress(data,preset=9)\n",
    "    print(len(data)/len(data_out))\n",
    "    with lzma.open(\"/home/neel/Downloads/file1.xz\", \"w\", preset=9) as f:\n",
    "        f.write(data)\n",
    "    with lzma.open(\"/home/neel/Downloads/file1.xz\") as f:\n",
    "        file_content = f.read()\n",
    "    return data_out\n"
   ]
  },
  {
   "cell_type": "code",
   "execution_count": 10,
   "metadata": {},
   "outputs": [],
   "source": [
    "def bzip_decompression(compressed_data):\n",
    "    return bz2.decompress(compressed_data)"
   ]
  },
  {
   "cell_type": "code",
   "execution_count": 14,
   "metadata": {},
   "outputs": [],
   "source": [
    "def gzip_decompression(compressed_data):\n",
    "    return gzip.decompress(compressed_data)"
   ]
  },
  {
   "cell_type": "code",
   "execution_count": 15,
   "metadata": {},
   "outputs": [],
   "source": [
    "def lzma_decompression(compressed_data):\n",
    "    return lzma.decompress(compressed_data)"
   ]
  },
  {
   "cell_type": "code",
   "execution_count": 23,
   "metadata": {},
   "outputs": [],
   "source": [
    "def data_base64(data):\n",
    "    \n",
    "    string=binascii.b2a_base64(data)\n",
    "\n",
    "    return string"
   ]
  },
  {
   "cell_type": "code",
   "execution_count": 27,
   "metadata": {},
   "outputs": [],
   "source": [
    "def data_reconvert(reconvert):\n",
    "    return binascii.a2b_base64(reconvert)\n"
   ]
  },
  {
   "cell_type": "code",
   "execution_count": 28,
   "metadata": {},
   "outputs": [
    {
     "name": "stdout",
     "output_type": "stream",
     "text": [
      "2.4684014869888475\n",
      "2.6141732283464565\n",
      "2.3184357541899443\n"
     ]
    }
   ],
   "source": [
    "data = b\"\"\"Lorem ipsum dolor sit amet, consectetur adipiscing elit. Morbi maximus nisi in nunc commodo, id malesuada odio vulputate. Vestibulum ante ipsum primis in faucibus orci luctus et ultrices posuere cubilia curae; Nam dapibus ac risus eu rutrum. Proin pretium eget nisl eu mattis. Nullam et tincidunt lorem, vitae vestibulum est. Nam luctus arcu a vehicula finibus. Sed cursus, est ut facilisis maximus, dolor augue dictum ipsum, quis fringilla nibh nibh a nisi. Curabitur lobortis elementum facilisis. Aliquam erat volutpat. Sed ultricies turpis sit amet dui mattis, ac aliquet purus efficitur. Nunc mi diam, interdum eu augue ut, tempus rhoncus ex. Etiam magna sapien, imperdiet et sem in, congue imperdiet mi. Sed venenatis magna purus, a faucibus neque tincidunt sed. Integer vel eleifend tellus. Lorem ipsum dolor sit amet, consectetur adipiscing elit. In hac habitasse platea dictumst. Quisque consectetur lorem vitae commodo consectetur. Mauris augue sem, convallis non ante sed, facilisis molestie nisi. Duis tempor sodales dignissim. Morbi aliquet orci non venenatis gravida. Ut eleifend eu purus eu euismod. Suspendisse interdum est eu dolor vulputate, eget rhoncus lacus placerat. Maecenas quis nulla vel tellus consequat pretium. Curabitur nibh nulla, aliquam at volutpat vitae, pretium at metus. Nunc elementum in neque eget rutrum. Etiam sit amet luctus magna. Proin pulvinar commodo libero, sed ultrices mauris mattis a. Vivamus tempus, libero non pretium laoreet, velit metus porta sapien, ac fermentum velit sapien et turpis. Sed tincidunt lacus sed magna porttitor tempor. Vestibulum in nibh at mauris tristique maximus. Ut commodo erat eu consequat luctus. Vivamus ligula libero, porttitor pharetra justo ut, sagittis luctus ante. Nulla rhoncus dictum vulputate. Cras euismod quam nec eros dapibus mollis. Nulla fermentum, nunc aliquam sollicitudin scelerisque, nulla justo elementum arcu, tempus tristique ante odio id magna. Curabitur consequat, quam eu ultrices molestie, sapien turpis viverra erat, vitae dapibus ipsum dui id enim. Sed id mauris magna. In interdum eu quam eget bibendum. Fusce sit amet urna ut mauris rutrum molestie ac in dui. Curabitur quis felis tortor. Suspendisse consectetur at diam sit amet pulvinar. Nunc eu elit eu dui euismod placerat. Fusce sodales tempor quam ac convallis. Proin sed ex libero. Donec mollis urna nec ipsum cursus, lobortis egestas risus eleifend. Integer viverra mollis nisi, vitae mollis diam pellentesque quis. Aenean sem quam, pellentesque sit amet porta nec, posuere et nunc. Duis tempor imperdiet massa, sit amet eleifend eros. Sed vulputate lectus non condimentum dapibus. Fusce scelerisque, odio sit amet eleifend varius, justo nisl mollis ipsum, id eleifend lectus justo a arcu. Aenean feugiat ex vitae libero sodales eleifend. Vestibulum nec ante sapien. Fusce eu ex tempus, imperdiet tortor nec, rhoncus dolor. Proin blandit consectetur dui et laoreet. Sed fermentum lectus sit amet facilisis ultricies. Aenean faucibus ex at tellus dignissim, ut bibendum elit pharetra. Vestibulum sit amet leo vitae risus iaculis consequat ac nec erat. Praesent ac sollicitudin lectus. Ut a fermentum nisl. Nunc in felis at tellus viverra convallis ac in dui. Pellentesque gravida, eros sed hendrerit auctor, libero urna sagittis eros, vitae imperdiet enim ex.\"\"\"\n",
    "\n",
    "gzip_compress=gzip_compression(data)\n",
    "gzip_base=data_base64(gzip_compress)\n",
    "\n",
    "\n",
    "bzip_compress=bzip_compression(data)\n",
    "bzip_base=data_base64(bzip_compress)\n",
    "\n",
    "\n",
    "lzma_compress=lzma_compression(data)\n",
    "lzma_base=data_base64(lzma_compress)\n"
   ]
  },
  {
   "cell_type": "code",
   "execution_count": 32,
   "metadata": {},
   "outputs": [],
   "source": [
    "gzip_reconvert=data_reconvert(gzip_base)\n",
    "gzip_reconvert=gzip_decompression(gzip_reconvert)\n",
    "\n",
    "\n",
    "bzip_reconvert=data_reconvert(bzip_base)\n",
    "bzip_reconvert=bzip_decompression(bzip_reconvert)\n",
    "\n",
    "\n",
    "lzma_reconvert=data_reconvert(lzma_base)\n",
    "lzma_reconvert=lzma_decompression(lzma_compress)\n",
    "\n"
   ]
  },
  {
   "cell_type": "code",
   "execution_count": 26,
   "metadata": {},
   "outputs": [
    {
     "name": "stdout",
     "output_type": "stream",
     "text": [
      "b'H4sIADG5PF8C/51W247bNhD9lfkAwT/QpyJtgQBpkCJo3mmJtqegSIUXYT+/Z8ghKaNvBRa7XkskZ85t+CVEuxMfqey0BRciJc5kdpsXWoNPds02l0hm44PTyv5J1nG+0Z8h3pl288F7SeQ5MbEnX/yKdfsetrAQb3jB2VTMZihsHOgs7ijZZHujHzZlvheHg43PVms4Iu+cZKuHKSueJwpxZXJlzfhsMxWXI6820RFSsdHSWu7s2OBvNPYX+mrQiTnqUrNS5CTrCsWSY9lv9C0G7H5Emxnn2Se2RPVOXtlNzpxu9LU4h13wJLNfeSs+kxOgFjo5G0vnrB2fbvVMrdDEtZDBGy9eizP0YC+l3Oi73aREVLPIIioZLa6oPKFfxXFRDkx5FksbY0clZ6GfBe89IhhgVIea76/2y1T0b/QJ/d9ZyHLhHiI6AVV2t142GUfd6FfHP4u0F02mM7iSD5NbfQ1bBrjYBnwPMdBWWOFZBFUje+Dro0RB9/HAKiwR6CCAnVG7Qc0MYuMmKBXtqUBX2e4HVsVX8Kus/rjR7xnv44CnN5RAnvVYvB9YzDgFP0lU6qsmZZv5bOdW+mm99SZXLGWXWhlqnTryFiVfGE12u9FnVPi0EcudoMUP6zcU6JxQ9uX/muOzpxdQegkfJiVLh4PmjTIqivkLbEo5122qxFRh6qHrc3jOFMhZkUwiRzw+jQOx5INvPkJby1VZwYlYrYrkN1GRECDNhE3ciaqeeJh4767u7FbnycYT3Gc0J2/mRn/niRfYVSEU/HBC5SClpAMPWdqfOoDw8VIDc4TB0mzYBeGM/AZkq0hU2rYrjk/NAl7MWflqNDWIoOjcTX21QrOJLFlaW5DZRfYN7WXEAb4BuyWpkKd/JNuqflqlmiVNtsMkGgFVgCNoijvZmzgYdXy3EeGYht+sLKnMNocRFv/g00iwNq8suqqS0Wt1BnoRKZ4iulY3QjHmaSFo8GGjttBea49qtlWLN/dccq6CL8Wpj7Bh5gy6mmregltQqRGUewfoB08FKI20qpTee40c8D8pa5DNfh0/JTU7SPP042XQdzT0T0k51BxJ5skVrx69XuZKDe+hJc3Qy9z5FE3qKqWqB2/BdAxpjA14xo05MBFc2njrMkrylsTeBhjSCq3E6ulFJdoKnRKSyTDCb+JUTVuHI29dOlO/A6ml1QrwpmjU2ksnVUP75NNGICVo94nVW9MwQ5rjNOvF88J/PVolWCtAgl3Du50t0r+DGb+J+P8oaHqKv0SopQwhNIvM+IEUARMOvnbXZpqV/ALHWdR1jY23jM11pszzurG6VUvN3pou6K4TPFNEy9XM0whsebDOHO22FQPYD9UhYjOISJouWqfyfwOzD/U5dZ9oGSLTq4em5GXWKD+6nQRzp0m/qp0eiDcox9Y5IUhhdCOHja/DUCpf3t+Z0NQQQIXLuCTJLQcwvQ+AyxTFlEJCjh1mtMMXOmC7hcjZajfJIuC2sepbJTaQvjqi6vu/u58mskDXrFKvYYqAXnpEpP1lPba9a6qdBiIPW54s2fKhQGpedronCZf0EgrbyKz26YWLkj5G8E6MmkIbrCNeZJB1zdydARr5TbZVi7lndUNyRrK2NICZY3vcxGaL/R6D4tCpDr8xuxfxXjdns0KPzLem57CyQbFqOmUEvyA/sxm+aNEo9vmGy3VC1fLtW/K1HmrMX7KykqnWlMt89fgsu1tg3l8u+fDtKmq9cCwtocWWL7QYoSych9wPcQzH6ssxFOT9bqvLVRKRJzfOfwGQg7k7+AwAAA==\\n'\n",
      "b'QlpoOTFBWSZTWZESUGUAATofgEAFAAgvJ2sAP/f/QGAGaBpfB4gCKiUVL29DEKTIwnpBo0ZDQ9TQaqfsgTSaUgAAGgDUxpKfpqamgAAAASaSEiUeUbU9qnqMgYIGGRpppkYTIwTQGBIhBGhNJohHpAaaDEguiAB5j73nONFk+xKYjL0oJFNL/KhGe2t9aG1C6QvDGP14iG5dtfVapfjYVFs7dSwuRiwq+hAQm4GfsyONzNeYm6flDephN31pcorxajmpdrPGc2oOMc2wiltnZ9s7wrzovR7JsU2C2iNQ4mGLZLHbtkq3p2rflp+hS10ht3JDIvx04c7Q41OH75LwWQzuPQXdwb15XAO+1hyrWpfT4uRSMUSLD2SO50Z1Tq9UlbcgrUymUPKJUFnBUnKsgok0KycbC8UiwzMXsjAYKeEuOlbcVysaesiU421trBhFmpgaxqEPkG3qnTC2pM0cWnRT6XUkV5IuwqYhqs8fdnBFwWu6hsEBxSXWsVKIyq6vCisEsUl9VKUGlpIMZqJNKG+NTWqJdMqStUovbzAQoaLn4DeDzRuBj7vR2LSdw/5ZP3Zu41DTbskWPCvKGZDZHgpeDHFdcvWLcTI2f66lhNg4yZXayHchka3BQUb+kR8FkLavMQ4HAOG4TI7FElLJlXUlBchZSDArymobTwq1yzoKc0YUFs7GZFBrrRk2Q5BN9GpwyUNQqR3Hgc52u8pfFx16GY8zWtZtwomZS7yV6IXhPQPpVVWJ3PLoYfDkTIEaOyJbZ/XsYDbYbb2Ugco35NJZPX5Puujo54XuA4Dc+Sy4HpHS9GTvwHQsByrGyfZ63V1x+ctYCe1kd2QTPNDkkplL6HQtxSUC6Yguk0XmDslLaOQLliqZPgKOx40Fb4XnzFRJLdeM9fZs72LC6CyOdMY54RY72XvpHo2W63RBdHaTNuKDnnsd+uEfK+0BTUEOOjpbmO7LCGlyrjGyzIXsP2mCjkktPmCZqKtaql0uggGrBc2JIRhIc2FwB3sdnRIOQx8F10Htob35bYdFiNQSwuI1LTxPWPjRNjn6sznehWcCkwqFnRtijQ6MgmoDBhwMKbYqgooo8s5GYIq1sarVcyyrwgZU8w3IUFXDS9BQFIwBnEtmG2VMD/shFNTWOJ39RVmGTqSzYZIpxJ2DEomplCJISuMKETdXRkwqSLiuvPpuzjeWReapcnC5WygKBqRosjyeg9w+oR/LEt/focDiG3HycnsfguWPqYIOwZBg7O0QbILryTNAyFkYUO4XFRfUL1WpUpgeJ7d6VFRQ4JcbO55LkPl8+ifsdB2mEKT38BRoN0T86RkosouwpMWgYQmmbAXVnJ5ljHVptK2lnSWKrGLiNlFZcrmsq6arUqqTMwwRVyz05JQTRk9yZA5Q0GhDUgkYbLuJ0ilnloIKCMnCVLs/OdUCzm02klqNVFquxuXl04FahdXBhuyjstNrquXo0Bp2F7NMbGaBMX0F+DAFJnWw8NsNwoK3Mxg3LnuiSVtgZcg0GWm3lS22N4UilWIRO//BL2Dyh+Bo9kUUU4J1yexMmIUH9uqXu5ILMC4jsRzEpX3si0hCEBk64O1DQQ3VWdaNA6UpH6hz6RyqUnC5k5pvXNRFnJdfAoElGiXVUqftjc0Wlv6B5j/AdeBoCxpdrgsA0+ixCA+BSv/F3JFOFCQkRJQZQA==\\n'\n",
      "b'/Td6WFoAAATm1rRGAgAhARwAAAAQz1jM4Az3BVVdACYbykZnWvJ3uH2G2EHbBTXNg6V8EqUF25C9LxTTcXKWqIp9hFZxjWoimKuePcNV78ylw9120Gt8DxXPM3PNOdZCaiK1r14D0CyPYPkZXdpCUcyHbOe/Mm/1rfUW5DzD4CZLY9SjWEOXG4QylqGVqTHUKYx6O/WB5czZja7u6PttIyAThkzFOkRkOmSWgmcVHpHCZgHb9o6G4fDdgCOQG31MaeJKEv6w5jLWbF0YzkffONtbOjuJZePUEplrFQbUCbg/+EjJse4p/O7SxBu2mCwCSb6r3Q4nfgfuymj51WFs1H8k8loMbd8cCU6dBWeY3zNFf53r2mbrKTV8Z4ilRQFnKPP3Hykn1ZsZbm9LWJLqnr81BiR6ymNxpq53DEV5PxzLiTrGMAOS9jZ9dlbQ7uLzBNhCN9fd7lV00HbDW9cStIDNWMLpA+MDv0UOHgckON1TbAhkCxB9l+usD6DR+783h6cOlQ4K6dY+5Cb6xLHYWitSGYbmprx1bRMkYvz0so0l4WHYOsvb9ND29zKpeRpuO/DGDhEUz3zNY+BmazEGuSKEQo+2C2N+aTvflt8xlyJwN7b6zN6odehJaQoVW0z77xq2NkCvXij8F/rdv/HU1rmS74Td26HvvyI5D/7+TBR+sE8ELw84JrrJ4SQpmAC/HBw3SFW+nNLBm5rIfx2A8k42Wu+7+cOeBOhs0pqY5t7IS6UXIXydamDuWlwH+Zf2UdFxDi1HbtodlODM4ZZyB1ObMt0n1MC5Z288rQyD6CSmBO+/woi5BZQIU/PIL65yI3rV78Zwb9RgvQQIuY8cw2zjTak89EjFDrqHpQ6DvBXZTmbW4Q/FNitrn3uRYASYiD1jrWFtYBdubzAceolMjw9SlOE/n4UBFq60FuOTKOGXnhmABJq3XTxXUyOGb5JVyUVDPDzoRYCSIem6b058E1knhBrKLHAqGYeyjkPSGJ1KMmJ4gM2Y9n87PAzRdkWRt5L/urfnis4KLS536SmJhfqmaTAsTYt6i8PID4n5OplNrU+a9hbOsTDCIvEPKgj4PlUIuWypyre5O70kqHHH4oKdah+aOWc/VJAGs7SESaBRvHrc6lsyfkVUG3sxpdcQkU4yn8fdhTOxHM0/8RSnwW+O/2C0ug5XMvgJT7UDQ8ETLxa8V7i1NmvXkQAv5bA0jQr1bhJVuHZqwW6X6ZGaB+y7dBH3SJYwKL3Ta24iaX5nTdrVIa+zSeSL8l7XyEuwOMN+iAXWds8slpL5sp1ZN+NkGw1cNe7QnTWsnJrGWl6nOet2B8lck2ZMvN1WaBOcV5Dvy7snK5iAZGviKjwNeEi7ZxtbTTrxJiHPjPYsnhRBFvhzX/CgEirZuHmPokv70klAYqm/mpP9hEV0IJYe+4vgLnwaLPOfh7mBVyroHdx0LjzrtUxScJlwH3yj7SyGFgf0T4A6issPhQg3o+lurd2CmPN1HrBvmF0ZaaIu+nKVp8Ks+MJzqHxU7w2htqV01cnA8XsGO8ET6cGPqYjttz2RiPpYHaDMzo71eKXKxbQde/QqzvwNZAyUbUz7s0adk+V6b3QKVTtLp3EFnC4Wp1fjtq5Zt9TS8vKpWu7NUAitxa008E8BADO9Vu0OoMHQB2r/YIxb/FwJfY2/dyQOWA37CaevUAQBLPuet9A+GWhN+NOHt0iX/JAIx/na3hxDVIMAe2w+7FQHRcle+o35WnUbFtK0LPTYIZygJU/0CG5q44vRaHgvVDNobmPMB1v1c8/qCtbMYEzvYXWRcJmH8RLBgJR6Cq8aSE9YH8t1088fMsPiKswK0Z3FAvSNDSBDqv8mAAAAAAClNv+PBQ/w7QAB8Qr4GQAAd6AOB7HEZ/sCAAAAAARZWg==\\n'\n"
     ]
    }
   ],
   "source": [
    "print(gzip_base)\n",
    "print(bzip_base)\n",
    "print(lzma_base)"
   ]
  },
  {
   "cell_type": "code",
   "execution_count": null,
   "metadata": {},
   "outputs": [],
   "source": []
  }
 ],
 "metadata": {
  "kernelspec": {
   "display_name": "Python 3.7.6 64-bit ('base': conda)",
   "language": "python",
   "name": "python37664bitbaseconda1c3b4bad5af94ffcb9e8555d019b7991"
  },
  "language_info": {
   "codemirror_mode": {
    "name": "ipython",
    "version": 3
   },
   "file_extension": ".py",
   "mimetype": "text/x-python",
   "name": "python",
   "nbconvert_exporter": "python",
   "pygments_lexer": "ipython3",
   "version": "3.7.6"
  }
 },
 "nbformat": 4,
 "nbformat_minor": 4
}
