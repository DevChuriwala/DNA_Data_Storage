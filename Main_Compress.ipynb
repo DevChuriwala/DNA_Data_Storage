{
  "nbformat": 4,
  "nbformat_minor": 0,
  "metadata": {
    "colab": {
      "name": "DNA_DataStorage",
      "provenance": [],
      "collapsed_sections": []
    },
    "kernelspec": {
      "display_name": "Python 3",
      "name": "python3"
    }
  },
  "cells": [
    {
      "cell_type": "code",
      "metadata": {
        "id": "CvmThzLq0l_2",
        "colab_type": "code",
        "colab": {}
      },
      "source": [
        "#import statements\n",
        "import lzma\n",
        "import gzip\n",
        "import bz2\n",
        "import binascii"
      ],
      "execution_count": null,
      "outputs": []
    },
    {
      "cell_type": "code",
      "metadata": {
        "id": "pwVlymJTI_3x",
        "colab_type": "code",
        "colab": {}
      },
      "source": [
        "def bzip_compression(data):\n",
        "    data_out = bz2.compress(data)\n",
        "    # print(len(data) / len(data_out))\n",
        " \n",
        "    return data_out\n"
      ],
      "execution_count": null,
      "outputs": []
    },
    {
      "cell_type": "code",
      "metadata": {
        "id": "EMhth_XEI_34",
        "colab_type": "code",
        "colab": {}
      },
      "source": [
        "def gzip_compression(data):\n",
        "    data_out = gzip.compress(data)\n",
        "    # print(len(data) / len(data_out))\n",
        "\n",
        "    return data_out"
      ],
      "execution_count": null,
      "outputs": []
    },
    {
      "cell_type": "code",
      "metadata": {
        "id": "cti5H4zeI_3_",
        "colab_type": "code",
        "colab": {}
      },
      "source": [
        "def lzma_compression(data):\n",
        "    data_out = lzma.compress(data)\n",
        "    # print(len(data)/len(data_out))\n",
        "\n",
        "    return data_out\n"
      ],
      "execution_count": null,
      "outputs": []
    },
    {
      "cell_type": "code",
      "metadata": {
        "id": "O8lUMnCVI_4F",
        "colab_type": "code",
        "colab": {}
      },
      "source": [
        "def bzip_decompression(compressed_data):\n",
        "    return bz2.decompress(compressed_data)"
      ],
      "execution_count": null,
      "outputs": []
    },
    {
      "cell_type": "code",
      "metadata": {
        "id": "1-lRIE-aI_4N",
        "colab_type": "code",
        "colab": {}
      },
      "source": [
        "def gzip_decompression(compressed_data):\n",
        "    return gzip.decompress(compressed_data)"
      ],
      "execution_count": null,
      "outputs": []
    },
    {
      "cell_type": "code",
      "metadata": {
        "id": "VC8XcM6sI_4T",
        "colab_type": "code",
        "colab": {}
      },
      "source": [
        "def lzma_decompression(compressed_data):\n",
        "    return lzma.decompress(compressed_data)"
      ],
      "execution_count": null,
      "outputs": []
    },
    {
      "cell_type": "code",
      "metadata": {
        "id": "k3QcrTYyI_4a",
        "colab_type": "code",
        "colab": {}
      },
      "source": [
        "def data_base64(data):\n",
        "    \n",
        "    string=binascii.b2a_base64(data)\n",
        "\n",
        "    return string"
      ],
      "execution_count": null,
      "outputs": []
    },
    {
      "cell_type": "code",
      "metadata": {
        "id": "yoblKNjyI_4g",
        "colab_type": "code",
        "colab": {}
      },
      "source": [
        "def data_reconvert(reconvert):\n",
        "    return binascii.a2b_base64(reconvert)\n"
      ],
      "execution_count": null,
      "outputs": []
    },
    {
      "cell_type": "code",
      "metadata": {
        "id": "ve8kwf3Eb5my",
        "colab_type": "code",
        "colab": {}
      },
      "source": [
        "# Creating tree nodes for Huffman Coding\n",
        "class NodeTree(object):\n",
        "\n",
        "    def __init__(self, left=None, right=None):\n",
        "        self.left = left\n",
        "        self.right = right\n",
        "\n",
        "    def children(self):\n",
        "        return (self.left, self.right)\n",
        "\n",
        "    def nodes(self):\n",
        "        return (self.left, self.right)\n",
        "\n",
        "    def __str__(self):\n",
        "        return '%s_%s' % (self.left, self.right)\n",
        "\n",
        "\n",
        "# Main function implementing huffman coding\n",
        "def huffman_code_tree(node, left=True, binString=''):\n",
        "    if type(node) is str:\n",
        "        return {node: binString}\n",
        "    (l, r) = node.children()\n",
        "    d = dict()\n",
        "    d.update(huffman_code_tree(l, True, binString + '0'))\n",
        "    d.update(huffman_code_tree(r, False, binString + '1'))\n",
        "    return d\n",
        "\n",
        "\n",
        "def Huffman_Compress(string, outGraph=False):\n",
        "  # Calculating frequency\n",
        "  freq = {}\n",
        "  for c in string:\n",
        "      if c in freq:\n",
        "          freq[c] += 1\n",
        "      else:\n",
        "          freq[c] = 1\n",
        "\n",
        "  freq = sorted(freq.items(), key=lambda x: x[1], reverse=True)\n",
        "\n",
        "  nodes = freq\n",
        "\n",
        "  while len(nodes) > 1:\n",
        "      (key1, c1) = nodes[-1]\n",
        "      (key2, c2) = nodes[-2]\n",
        "      nodes = nodes[:-2]\n",
        "      node = NodeTree(key1, key2)\n",
        "      nodes.append((node, c1 + c2))\n",
        "\n",
        "      nodes = sorted(nodes, key=lambda x: x[1], reverse=True)\n",
        "\n",
        "  huffmanCode = huffman_code_tree(nodes[0][0])\n",
        "  \n",
        "  if outGraph == True:\n",
        "    print(' Char | Huffman code ')\n",
        "    print('----------------------')\n",
        "    for (char, frequency) in freq:\n",
        "        print(' %-4r |%12s' % (char, huffmanCode[char]))\n",
        "  \n",
        "  return huffmanCode"
      ],
      "execution_count": null,
      "outputs": []
    },
    {
      "cell_type": "code",
      "metadata": {
        "id": "srTqt8AIlasT",
        "colab_type": "code",
        "colab": {}
      },
      "source": [
        "def toBinary(String, GraphKeys):\n",
        "  Encoding = \"\"\n",
        "  Sense = 'Even'\n",
        "  for char in String:\n",
        "    Encoding += (str(GraphKeys[char]))\n",
        "\n",
        "  if len(Encoding)%2 != 0:\n",
        "    Encoding += str(0)\n",
        "    Sense = 'Odd'\n",
        "  return Encoding, Sense"
      ],
      "execution_count": null,
      "outputs": []
    },
    {
      "cell_type": "code",
      "metadata": {
        "id": "8ulCBnZVnj0P",
        "colab_type": "code",
        "colab": {}
      },
      "source": [
        "def toDNA(From_Binary_Encoding):\n",
        "  DNA = ''\n",
        "  (Binary_Encoding, Sense) = From_Binary_Encoding\n",
        "  for char in range(0,len(Binary_Encoding),2):\n",
        "    if (Binary_Encoding[char]=='0' and Binary_Encoding[char+1]=='0'):\n",
        "      DNA += 'A'\n",
        "    elif (Binary_Encoding[char]=='0' and Binary_Encoding[char+1]=='1'):\n",
        "      DNA += 'T'\n",
        "    elif (Binary_Encoding[char]=='1' and Binary_Encoding[char+1]=='0'):\n",
        "      DNA += 'G'\n",
        "    elif (Binary_Encoding[char]=='1' and Binary_Encoding[char+1]=='1'):\n",
        "      DNA += 'C' \n",
        "\n",
        "  return DNA, Sense"
      ],
      "execution_count": null,
      "outputs": []
    },
    {
      "cell_type": "code",
      "metadata": {
        "id": "EyPMC-ZtpKdI",
        "colab_type": "code",
        "colab": {
          "base_uri": "https://localhost:8080/",
          "height": 85
        },
        "outputId": "c70a0921-8587-42c1-8d95-9dc3c18183fd"
      },
      "source": [
        "!pip install cryptography\n",
        "from cryptography.fernet import Fernet\n",
        "\n",
        "def Encrypt(String):\n",
        "\n",
        "  key = Fernet.generate_key()\n",
        "  encryption_type = Fernet(key)\n",
        "  String = str(encryption_type.encrypt(bytes(String, encoding='utf8')))\n",
        "\n",
        "  return String\n",
        "\n",
        "def Decrypt(String):\n",
        "  String = encryption_type.decrypt(String)\n",
        "\n",
        "  return String"
      ],
      "execution_count": null,
      "outputs": [
        {
          "output_type": "stream",
          "text": [
            "Requirement already satisfied: cryptography in /usr/local/lib/python3.6/dist-packages (3.0)\n",
            "Requirement already satisfied: six>=1.4.1 in /usr/local/lib/python3.6/dist-packages (from cryptography) (1.15.0)\n",
            "Requirement already satisfied: cffi!=1.11.3,>=1.8 in /usr/local/lib/python3.6/dist-packages (from cryptography) (1.14.1)\n",
            "Requirement already satisfied: pycparser in /usr/local/lib/python3.6/dist-packages (from cffi!=1.11.3,>=1.8->cryptography) (2.20)\n"
          ],
          "name": "stdout"
        }
      ]
    },
    {
      "cell_type": "code",
      "metadata": {
        "id": "HBcxGjPR2xeE",
        "colab_type": "code",
        "colab": {}
      },
      "source": [
        "def Main_Compress(String, compressAlgo = 'bzip', encrypt = False, retainCase = False, outGraph = False):\n",
        "  if retainCase == False:\n",
        "    String = String.lower()\n",
        "\n",
        "  if compressAlgo == 'bzip':\n",
        "    String = bytes(String, 'utf-8')\n",
        "    data_compress = data_base64(bzip_compression(String))\n",
        "    String = str(data_compress, 'utf-8')\n",
        "  elif compressAlgo == 'gzip':\n",
        "    String = bytes(String, 'utf-8')\n",
        "    data_compress = data_base64(gzip_compression(String))\n",
        "    String = str(data_compress, 'utf-8')\n",
        "  elif compressAlgo == 'lzma':\n",
        "    String = bytes(String, 'utf-8')\n",
        "    data_compress = data_base64(lzma_compression(String))\n",
        "    String = str(data_compress, 'utf-8')\n",
        "  elif compressAlgo == 'None':\n",
        "    String = String            \n",
        "\n",
        "  if encrypt == True:\n",
        "    String = Encrypt(String)\n",
        "  \n",
        "  return(toDNA(toBinary(String, Huffman_Compress(String, outGraph))))"
      ],
      "execution_count": null,
      "outputs": []
    },
    {
      "cell_type": "code",
      "metadata": {
        "id": "gUphbedJplJ-",
        "colab_type": "code",
        "colab": {
          "base_uri": "https://localhost:8080/",
          "height": 54
        },
        "outputId": "364dbe62-3db0-41d3-9a25-9eb39488f355"
      },
      "source": [
        "Test_String = \"\"\"Lorem ipsum dolor sit amet, consectetur adipiscing elit. Morbi maximus nisi in nunc commodo, id malesuada odio vulputate. Vestibulum ante ipsum primis in faucibus orci luctus et ultrices posuere cubilia curae; Nam dapibus ac risus eu rutrum. Proin pretium eget nisl eu mattis. Nullam et tincidunt lorem, vitae vestibulum est. Nam luctus arcu a vehicula finibus. Sed cursus, est ut facilisis maximus, dolor augue dictum ipsum, quis fringilla nibh nibh a nisi. Curabitur lobortis elementum facilisis. Aliquam erat volutpat. Sed ultricies turpis sit amet dui mattis, ac aliquet purus efficitur. Nunc mi diam, interdum eu augue ut, tempus rhoncus ex. Etiam magna sapien, imperdiet et sem in, congue imperdiet mi. Sed venenatis magna purus, a faucibus neque tincidunt sed. Integer vel eleifend tellus. Lorem ipsum dolor sit amet, consectetur adipiscing elit. In hac habitasse platea dictumst. Quisque consectetur lorem vitae commodo consectetur. Mauris augue sem, convallis non ante sed, facilisis molestie nisi. Duis tempor sodales dignissim. Morbi aliquet orci non venenatis gravida. Ut eleifend eu purus eu euismod. Suspendisse interdum est eu dolor vulputate, eget rhoncus lacus placerat. Maecenas quis nulla vel tellus consequat pretium. Curabitur nibh nulla, aliquam at volutpat vitae, pretium at metus. Nunc elementum in neque eget rutrum. Etiam sit amet luctus magna. Proin pulvinar commodo libero, sed ultrices mauris mattis a. Vivamus tempus, libero non pretium laoreet, velit metus porta sapien, ac fermentum velit sapien et turpis. Sed tincidunt lacus sed magna porttitor tempor. Vestibulum in nibh at mauris tristique maximus. Ut commodo erat eu consequat luctus. Vivamus ligula libero, porttitor pharetra justo ut, sagittis luctus ante. Nulla rhoncus dictum vulputate. Cras euismod quam nec eros dapibus mollis. Nulla fermentum, nunc aliquam sollicitudin scelerisque, nulla justo elementum arcu, tempus tristique ante odio id magna. Curabitur consequat, quam eu ultrices molestie, sapien turpis viverra erat, vitae dapibus ipsum dui id enim. Sed id mauris magna. In interdum eu quam eget bibendum. Fusce sit amet urna ut mauris rutrum molestie ac in dui. Curabitur quis felis tortor. Suspendisse consectetur at diam sit amet pulvinar. Nunc eu elit eu dui euismod placerat. Fusce sodales tempor quam ac convallis. Proin sed ex libero. Donec mollis urna nec ipsum cursus, lobortis egestas risus eleifend. Integer viverra mollis nisi, vitae mollis diam pellentesque quis. Aenean sem quam, pellentesque sit amet porta nec, posuere et nunc. Duis tempor imperdiet massa, sit amet eleifend eros. Sed vulputate lectus non condimentum dapibus. Fusce scelerisque, odio sit amet eleifend varius, justo nisl mollis ipsum, id eleifend lectus justo a arcu. Aenean feugiat ex vitae libero sodales eleifend. Vestibulum nec ante sapien. Fusce eu ex tempus, imperdiet tortor nec, rhoncus dolor. Proin blandit consectetur dui et laoreet. Sed fermentum lectus sit amet facilisis ultricies. Aenean faucibus ex at tellus dignissim, ut bibendum elit pharetra. Vestibulum sit amet leo vitae risus iaculis consequat ac nec erat. Praesent ac sollicitudin lectus. Ut a fermentum nisl. Nunc in felis at tellus viverra convallis ac in dui. Pellentesque gravida, eros sed hendrerit auctor, libero urna sagittis eros, vitae imperdiet enim ex. Lorem ipsum dolor sit amet, consectetur adipiscing elit. Morbi maximus nisi in nunc commodo, id malesuada odio vulputate. Vestibulum ante ipsum primis in faucibus orci luctus et ultrices posuere cubilia curae; Nam dapibus ac risus eu rutrum. Proin pretium eget nisl eu mattis. Nullam et tincidunt lorem, vitae vestibulum est. Nam luctus arcu a vehicula finibus. Sed cursus, est ut facilisis maximus, dolor augue dictum ipsum, quis fringilla nibh nibh a nisi. Curabitur lobortis elementum facilisis. Aliquam erat volutpat. Sed ultricies turpis sit amet dui mattis, ac aliquet purus efficitur. Nunc mi diam, interdum eu augue ut, tempus rhoncus ex. Etiam magna sapien, imperdiet et sem in, congue imperdiet mi. Sed venenatis magna purus, a faucibus neque tincidunt sed. Integer vel eleifend tellus. Lorem ipsum dolor sit amet, consectetur adipiscing elit. In hac habitasse platea dictumst. Quisque consectetur lorem vitae commodo consectetur. Mauris augue sem, convallis non ante sed, facilisis molestie nisi. Duis tempor sodales dignissim. Morbi aliquet orci non venenatis gravida. Ut eleifend eu purus eu euismod. Suspendisse interdum est eu dolor vulputate, eget rhoncus lacus placerat. Maecenas quis nulla vel tellus consequat pretium. Curabitur nibh nulla, aliquam at volutpat vitae, pretium at metus. Nunc elementum in neque eget rutrum. Etiam sit amet luctus magna. Proin pulvinar commodo libero, sed ultrices mauris mattis a. Vivamus tempus, libero non pretium laoreet, velit metus porta sapien, ac fermentum velit sapien et turpis. Sed tincidunt lacus sed magna porttitor tempor. Vestibulum in nibh at mauris tristique maximus. Ut commodo erat eu consequat luctus. Vivamus ligula libero, porttitor pharetra justo ut, sagittis luctus ante. Nulla rhoncus dictum vulputate. Cras euismod quam nec eros dapibus mollis. Nulla fermentum, nunc aliquam sollicitudin scelerisque, nulla justo elementum arcu, tempus tristique ante odio id magna. Curabitur consequat, quam eu ultrices molestie, sapien turpis viverra erat, vitae dapibus ipsum dui id enim. Sed id mauris magna. In interdum eu quam eget bibendum. Fusce sit amet urna ut mauris rutrum molestie ac in dui. Curabitur quis felis tortor. Suspendisse consectetur at diam sit amet pulvinar. Nunc eu elit eu dui euismod placerat. Fusce sodales tempor quam ac convallis. Proin sed ex libero. Donec mollis urna nec ipsum cursus, lobortis egestas risus eleifend. Integer viverra mollis nisi, vitae mollis diam pellentesque quis. Aenean sem quam, pellentesque sit amet porta nec, posuere et nunc. Duis tempor imperdiet massa, sit amet eleifend eros. Sed vulputate lectus non condimentum dapibus. Fusce scelerisque, odio sit amet eleifend varius, justo nisl mollis ipsum, id eleifend lectus justo a arcu. Aenean feugiat ex vitae libero sodales eleifend. Vestibulum nec ante sapien. Fusce eu ex tempus, imperdiet tortor nec, rhoncus dolor. Proin blandit consectetur dui et laoreet. Sed fermentum lectus sit amet facilisis ultricies. Aenean faucibus ex at tellus dignissim, ut bibendum elit pharetra. Vestibulum sit amet leo vitae risus iaculis consequat ac nec erat. Praesent ac sollicitudin lectus. Ut a fermentum nisl. Nunc in felis at tellus viverra convallis ac in dui. Pellentesque gravida, eros sed hendrerit auctor, libero urna sagittis eros, vitae imperdiet enim ex.\"\"\"\n",
        "\n",
        "print(Main_Compress(Test_String))"
      ],
      "execution_count": null,
      "outputs": [
        {
          "output_type": "stream",
          "text": [
            "('CCCGTTGCACCGCACTTATTTCCTCGATACATTTTATAAGGGGGGAGAACGGCGTTCAACGCCGGTTAGTTTGGAGTACAAGGCCAACAACTAACGATAACGATATGAAGACGAACACGGCCAACAACAACAACAACAACAACAACAACAACAACAACAACAATAGCAACAACAAGGTCGCTCCCCAGCAACAACAATTTTACGGACCGCAACAACAAACAGGCGCCCCCCAACAACGCCGGGACTGACGGACAACAACTCCCAACGGGCGCGCCAGTGCCCCCCAGAATGCCAATTATGTATATTATATTGAACGTATTGAGCGGCTCTTCATAAATTTCAGTAGAGTCGCACGTGGCCTCAAAGCGGCCGCATGATGCGTCCCGAAGCACACTCTCTTGGCTCAGACCTTATGCACCGTGGTGCTGAGCTCACTACACAATTACCTATGCCCGTCTATAGGGTGTCCGTTACGGTCCATGGCCGTCGTATCCCGGCGCGTGGTAGCGCTCAGGATACACATATTGCAGTACCTTACGGTATACCTTTGAGATTACCCATGACACCGCGGGCTCAGCCAAGTCCATGTGGGGCGGCTCACGTTGTTCGTAGTGACCCAACTGGGATCGGTGACGGTCAACTCGCCGTCCCAACCCCAGTCTGCTTTGTCGTCCTAGGCGCTACATAACTCTAGCTACTCGCCAGGAGACGAGCATAGTGGTCCTCCCTATTGAGTGGTCTCTAGGCTGATAACTACCGGCGCCTTTACCCAGATGAATATCCATGTGCGCTGCAATTGCCGGAAATTCGGAAGGCGCAGCTCTGCCCAACAGCACCTTTCCTATAAGGCTAGTAGTCGCACAATCTGCAGGCTAGCTGGCTGAGCAATGCGCTCTTCCAGATCACTGGTAGCTTCCTGCTAGGGAACCGCCAGTACCGCGGGGATATGCTCGAAAAAGCTGATTTGACGGTTAGCCTGACAAGGGGATCTGGTATTCAATAAGGTTGTTAGATCGCATGCGTCGCAGTTCTGCGTGAGTCTGCGCATTATAGCCACACTGCACCCTCTATACTAGCTGTCAGCCGACTATCTCCCCAACCTGACAGGCTTGCAACTCGAACAGATGCGTAGCATGGTGTTGTCGACAACGTCTGGAGGCGGCTAGGTTCTTACTAACCCGCTTCATGGCCCGTGCAGCCCGCTTCGTAGGTACATATATTACATATGACTCAGGTTAAGAGGGGCGTTACAGTCACTCGCTTTCGTCGAGTTTATGAAATGTTGAACTCTGGACCTTAATTAAGGGGTCGTCCTCTCTATTTACACCCTTTGCACTCTCACCGCGTTAAGCGCTCTGGTCGAGCTCAGGAGTCGGTGCCTTGAGGATTTCATGCAAACTACTAACTTGACATAACCTTCCAAAAGTGCCATAACGGAGATTGCTGTTGTCCGGATCCGGGTCCGGACTGCAATCCTGCCGCTTTCGATAGATACTGAGACAGCTTATCCCGTCAGTCGTCGATACTGTGTTACGCGATTGGTTCCCTAATGCGGGGAGGGAGGTCTGCGTATCGAGTCGCTTATCTACTTCCGCATGGTCAGCCCGCGTGCGGCTAAGCCAGCCCATATTCGGATATGATAAGGTCACTCGGCGCGTGTGCGCAAGCCACGTGGTGCCAGTACGGTGGAACGCTGCACGGTTGTTGCTATTTTAGACCCCGTTATCTGCGCAAAAGTGCGTCTTGCGTTAGGGCCGGCTCACGTTTTCAGCCGCAACGGCCATATACATCCTCAGAGTCCTCTACTATACAAGTATTCATATTTGGTTCCTGTTGAACGCGTGTGACCGACTCGGTGAGAAGTAGCCTGGGGCGTGTCGGGCCAGCATTATACACCTCTAGTTCGAACAAAGGTACCAAAAGCTGCAACTCATCGCTCTGGTCGACGAGGTCCGTAAGATTCAGACTTTTGCGCACTCTAACGGCCCGTGCCCCCAGTCTACTACTGCCTGGGACATGGTCCGTTAGACTACTGCCTGTCCAACCTCGTCTTGAACCACCAGAGAACGGATATTCACTGTACACCTCAATACCAAGATGTCCCCTCGCGCACAGAGGGGCTAAAGTTGTGTAGGCAGTCATAACAATAAGCGCCCCTAAGACCGGGCACGTTAGAATTCGATTGTCGCTATCCGTGATGGTCATCTTTGTGCGCGTGGCACTGTTACCGTTCGGGCTCCTGGGGCATCTATCCGGAGCCACATACGCTACCGACTCCGGCTCAGCCACTGCTGGACTGAACTCAGGACTATAGGCCCCCACCCTGACCGTAAGCTCGAGTGGGTCGGGCTAAGATCTTGCCACCGGCGCAGCAGTGTTGCACCTTAGAACGTAACAAATGGAGAAAAGACCGTCCGGATGTCGGCGATGCAGGTCCGCTTCTTAGCCTTCCGGAACATAGAATAATTCTCATCGCAGATGATGGTCATCCGTGTAAGACCAGCGGTGTACATGCCTGAACAGCTCCAGGGCGAACAGAGTCGTAATCCACTGCGCCGCCGACCCTGGAAAAATTTAGGGGTTAGAACGTTCGCGTAGCGCAGCTTTACCCGATATTCGGAGTGTCCCACCTCGTCAGGACCGAAGTCGCTGGTTTCCTTTATGAGTGATTTCTTGGGCGTCGGGTTGGCTTCACCGGTCTCACGTCACCGCCACAGGTGGCCTTTTACTAGTCACCCAGGAGCCCGTAGTACATTTGGAACCATCGCCTTGGTTAGCGTGGATCGTGGCGCGTATCACATGTTTGGGGGACCGAGAAGCCATTCGAATGACCACAACTGGTTGCGCAGAACGTAGCGGGTTGCACATCACACTACCCAACGGCCGGGCGCGTATGGCTCTGAGAGTTATTGCGTGCCCGTTCTTCCGTCCGCCTTCATCCCACGAATAAGAGAATATCCGCTGTCCGTCGTATGTGCTCTCTCACCGCCCGGCCGCTGCGTTTCCACGTGTCGACAGAGCGTATCTGTAAACTCGACTAAGTCTAAGACAACACGGTAAGCTCGATTTGGGTTGGCTCTTTTTCCGCAGACTACCCAGGTCCGTCAGCACTTTCTTTCGATGATTATGAAAGTCGTCATGACTTACCATCTAAGGTTGGGGGGCTGCTGTGTGCTTCCCGACCCCCGGGTCGACACGGTTACGCATCAAGGGCGAGCGTCCCCTCAAGGTACAGTTAATGGCGGGTAATCTAGTTCGCGCCGACTCGTGCACCGTGTGATGGCGTAGTCCCCACCTGCTAAACGGGCGACGTCAGGAGGGTCCCTCCCGACCTCAACTGTCCTGTCGCTTCCGGCATATGCTAATATGTGTCGGTGGTACGCGTTCATCGCGTTGTCTGTTGTTGAACGATACTTCATGAGACTCTATCCAATATCGACACAGTGGTAACCTCATCGTTTTAACTCGTTCCGTGCCCGGCGTCACTGCATGGTGTATCACGTAAGCGTAAATGTGAGGCCCGACCCGAAGTCCTTATCTCCGTCCTTTGGCATACATCTACCGATGTTTATAGTGGTGCGTCGTTTAGCTTGTTCGGACCTATTAATCACCGACTAGCAGTAAAACCACTTCCACACCCGTACAGAGTCCAGATTTCCACAGGTAGTGGCGAGTGGACACCTGCTAACGCATACTACGATATCGAAAGCCACGTTATTTGAGTTTCTGCCGACAGGCGGACGTATGATTCCCACTAACCATGCTGGACCTTAGTTACCCGTCTACGTCTGTTCAGGCATGCGTAAGTGACTGTATATCAGTGCTGTGCTCATAAAAACTCATACTCATTTCCCATCTCCCATCAGACCAGCCCGAACCACCAAGACGTTATGCGTCGATGGAGTGAAATAGATCTATTCTTTATCAGTCTTACCGTAATCCTCGTAGCCTTCAGTTCGAGCAAATATACCAGTCCGGATTCAGAACGGCCCGTGCGTTAAAATTCGCTGTAATGGCTTCCAGAGAACGTCCTGGCATTCCAGCATCCTCAGCCGGAGCCACTCGGCATCACCGAGATTTAGTAGGCAGATTCTCTTCTGCGCAAAGTCTCTGCCTTGTTTTGGGGTATCCAAGTATCCCTTGCCGACTACTCCTCTGCGTTGTAGAACGGCCGGCGCTTAAGTACTTAAACCCGTTGGGCTTGCCATCGCGGTCGAGCTCTCCATGGCCTTTTAGCACGCTCATAACTGGAACAGCTAATGCCCGATGGACTCTTTAAACTCTGACTCTGGGCCAGAACTGTAAAGCGGCTGAGTTAAATACTCGCTACTGCAGCCGGTTAGCAGGTTGGGCCGCCCACCTCTTCGTGTGTCCACGGGATCAACATTAGCGTCAGCACCACTGTTGCGAATCTTCAGGTCTTTCCCTGTGCTGGGTCTGAGCTCCCAAAATAATCCAAAACCTCTTGATTTATTAGTCTCCCAAGCGTGCGGACCATATTGTAACGTAGTTGAGACATGAGTTGTGCGACATGGGGGGCGACTGATAGCCCTAATCTCCGTTGTTCATTCTAATCGCAGAACCATGCCCACCGACCGGCGGATGAAGCCGTGGCCGCTTTCTCACCACTTTAGGGATGATAATTCAGTCCCAATGCGGAGGCCGGCATACGCCACAGTCTCCATCGACACTCGGCCACTGGCCCACCCTGGTTGTTTCCGGAGCATTTTTTCGTCGAGGTGTGCCCCTAACGTTGCACGAAGTTGTTATGGAACTCAGCCCGGTTTCTCAGCGTAGTTCGCAGTTTGCAGAACCGGCGCCTCCGATGTTAATCTAGTATATTTGCAGAACCGACACTTTTTGTGAGATGATCAACTGAACGCTTGCAGAAGCCAAAGTAAACCGGACCATGTAGAACAGTGGCCAAAAGAGACAAGACCTCACCGAGATATGTTGGCCCGAAATCCCCGCTGTAATCGACCATTACTACACCGACAGAACGTATATGAAAGTCGTCGATGTATAGTAGGTCGCTTTCGGCGCAGATGATCTATCGTCATCGGGCTAATGTGTCTTAGTAAACGCAAACCTAGCCCCATTCCCGAAGGCTGTCACCCCTCCTCAATGACCTCTTGAGTGACAGTGATAGTTGCGCACCGGTTTGATAAGGTTGCTAGGACCGGACCCTCTTCTTCAATCTTTTAAACATGAAGGCGTATATATGGCCGGTAGGGTCATAACAACTAACTAGCCTTCTCGGCAGTACGCCTTTACGAATAATCTGCTTAACAGCCACTAGTCCGGCGCTCCCACTATCCCCCCTCGTATCGTTTCGGCCTCGCGGCCCATCCATTTCTTTCTCGCTGTCTCCCCCAGACACTACAAGTAAGACCGCCCCAGGGTCGGGCCAACTGGCTGCTGCGCCTGCCAGTATGTTGCAGAGCCACAAGCTCCCTTTTCACTCCCCAGGACCAGATGCATGACCATTCGAAGCCATCACGCGCCATTTGGAGACGTATCCCTCCAGCACTTTACGTGAGAGTTCTCTCGCAGGACGAACTGGCAATAGTCCCAATAGTCCCCCTGCCCGGTGGTTCTTGGCGATTTCCCCGACCATCCGGTTCGGGCCCCCAGTACGTCCTCCGCAGTCAAATACTAACATTGAGTTCACGGCCTTGCTTCAAGAGCTACCCAGGACGACTTGCATCGTTTCCTTACATAAATTCCGGACACGTCGTGTTACTGGTTTCGGCTCGCACTGTCGCTGTATTCAGCCCACCTTCAACTCGCAGGGCGGCGCCCGGTGAATGTGGGGCGGTAGTAAACTGGTATAGAATGCTGTCATCCCATTTGAGTAACTGTGCTGGCTCGGACCGCGGTCTGCGCAAGGGGGAGTGGGGATAGCCTATAGGAACCGCCTATGCGTCTCCCGTCAGTTTACTTCGCTGTGCTCGCAGGGTGCTTAGGCCGGCCTGTTAGGAGTACGAATAATGTTGGCGCAGATTTCGGCTCAAATCCGCTTAAAGTGCGAGGCGCCCACTCGAGCGCTTTGCCGCTCGAA', 'Even')\n"
          ],
          "name": "stdout"
        }
      ]
    },
    {
      "cell_type": "code",
      "metadata": {
        "id": "Uvb94ARkOlSX",
        "colab_type": "code",
        "colab": {
          "base_uri": "https://localhost:8080/",
          "height": 289
        },
        "outputId": "a4d2aa0d-7b55-49b0-c108-3e37b6f6a637"
      },
      "source": [
        "res = ''.join(format(ord(i), 'b') for i in Test_String)\n",
        "len_res = len(str(res))/2 \n",
        " \n",
        "for x in ['bzip','gzip','lzma','None']:\n",
        "  for y in [True, False]:\n",
        "    for z in [True, False]:\n",
        "      (DNA_Codes, Sense) = Main_Compress(Test_String, x, y, z)\n",
        "      l = len_res/len(DNA_Codes)\n",
        "      print(\"Compress Algo: {} Encryption: {:5s} CaseRetain: {:5s} :: Compress Ratio = {:1.3f}\".format(x,str(y),str(z),l))"
      ],
      "execution_count": null,
      "outputs": [
        {
          "output_type": "stream",
          "text": [
            "Compress Algo: bzip Encryption: True  CaseRetain: True  :: Compress Ratio = 2.580\n",
            "Compress Algo: bzip Encryption: True  CaseRetain: False :: Compress Ratio = 2.660\n",
            "Compress Algo: bzip Encryption: False CaseRetain: True  :: Compress Ratio = 3.622\n",
            "Compress Algo: bzip Encryption: False CaseRetain: False :: Compress Ratio = 3.735\n",
            "Compress Algo: gzip Encryption: True  CaseRetain: True  :: Compress Ratio = 2.925\n",
            "Compress Algo: gzip Encryption: True  CaseRetain: False :: Compress Ratio = 3.022\n",
            "Compress Algo: gzip Encryption: False CaseRetain: True  :: Compress Ratio = 4.056\n",
            "Compress Algo: gzip Encryption: False CaseRetain: False :: Compress Ratio = 4.174\n",
            "Compress Algo: lzma Encryption: True  CaseRetain: True  :: Compress Ratio = 2.807\n",
            "Compress Algo: lzma Encryption: True  CaseRetain: False :: Compress Ratio = 2.876\n",
            "Compress Algo: lzma Encryption: False CaseRetain: True  :: Compress Ratio = 3.891\n",
            "Compress Algo: lzma Encryption: False CaseRetain: False :: Compress Ratio = 3.967\n",
            "Compress Algo: None Encryption: True  CaseRetain: True  :: Compress Ratio = 0.841\n",
            "Compress Algo: None Encryption: True  CaseRetain: False :: Compress Ratio = 0.841\n",
            "Compress Algo: None Encryption: False CaseRetain: True  :: Compress Ratio = 1.602\n",
            "Compress Algo: None Encryption: False CaseRetain: False :: Compress Ratio = 1.645\n"
          ],
          "name": "stdout"
        }
      ]
    }
  ]
}